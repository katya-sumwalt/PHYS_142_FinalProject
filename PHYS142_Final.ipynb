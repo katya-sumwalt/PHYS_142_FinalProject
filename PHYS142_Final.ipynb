{
 "cells": [
  {
   "cell_type": "markdown",
   "metadata": {},
   "source": [
    "## Double Well Potential with MCMC"
   ]
  },
  {
   "cell_type": "markdown",
   "metadata": {},
   "source": [
    "Paul Cretegny, Ethan Newell, Katya Sumwalt"
   ]
  },
  {
   "cell_type": "code",
   "execution_count": 31,
   "metadata": {},
   "outputs": [],
   "source": [
    "import numpy as np\n",
    "import matplotlib.pyplot as plt\n",
    "from numba import njit"
   ]
  },
  {
   "cell_type": "markdown",
   "metadata": {},
   "source": [
    "Consider the double well potential,\n",
    "$$ V(x) = αx^4 -2x^2 + \\frac{1}{α}$$\n",
    "where x is the position of the particle, and we set m = h_bar = 1 and α = 0.4. See Refs. [1, 2] for discussions of\n",
    "similar problems."
   ]
  },
  {
   "cell_type": "markdown",
   "metadata": {},
   "source": [
    "Use the path integral formulation with imaginary time τ:\n",
    "\n",
    "$$ Z = \\int\\ Dx(τ) exp [-\\frac{1}{h} \\oint_{0}^{\\tau_b} L_E(x(τ))dτ \\, dx] $$\n",
    "\n"
   ]
  },
  {
   "cell_type": "markdown",
   "metadata": {},
   "source": [
    "Problem A : Evaluate the ground state energy and probability distribution of the particle using Markov\n",
    "chain Monte Carlo with the Metropolis-Hastings algorithm in the large-τb (imaginary time) limit. Describe\n",
    "your strategy for determining τb, the initial configuration, burn-in steps, hit size, number of sweeps, and\n",
    "thinning (if any).\n"
   ]
  },
  {
   "cell_type": "code",
   "execution_count": 80,
   "metadata": {},
   "outputs": [],
   "source": [
    "SWEEPS = 200_000\n",
    "TAU = 30\n",
    "DELTATAU = 1\n",
    "NTAU = int(TAU/DELTATAU)\n",
    "HITSIZE = 0.1\n",
    "\n",
    "ALPHA = 0.4\n",
    "\n",
    "XLOW = -4\n",
    "XHIGH = 4\n",
    "NXBINS = 100\n",
    "OMEGA = 1\n",
    "M = 1\n",
    "DELTAX = (XHIGH - XLOW) / NXBINS\n",
    "prob_histogram = np.zeros(NXBINS)\n",
    "x_bins = np.linspace(XLOW, XHIGH, NXBINS + 1)\n",
    "\n",
    "x_path = np.zeros(NTAU)\n"
   ]
  },
  {
   "cell_type": "code",
   "execution_count": 81,
   "metadata": {},
   "outputs": [],
   "source": [
    "def V(x):\n",
    "    return ALPHA * x**4 - 2 * x**2 + 1/ALPHA\n",
    "@njit\n",
    "def vary_path(x_current):\n",
    "    x_prime = x_current + np.random.random() * 2 * HITSIZE - HITSIZE\n",
    "    while x_prime > XHIGH or x_prime < XLOW:\n",
    "        x_prime = x_current + np.random.random() * 2 * HITSIZE - HITSIZE\n",
    "    return x_prime\n",
    "# @njit\n",
    "def action(x_left, x_right):\n",
    "    K = 0.5 * M * (((x_right - x_left))**2) / DELTATAU\n",
    "    v = 0.5 * M * DELTATAU * (OMEGA**2) * V((x_left + x_right) / 2)\n",
    "    return K + v\n",
    "@njit\n",
    "def total_action(x_path):\n",
    "    path_action = 0\n",
    "    for i in range(-1, NXBINS-1):\n",
    "        path_action += action(x_path[i], x_path[i+1])\n",
    "    return path_action\n",
    "# @njit\n",
    "def delta_action(x_path, x_prime, i):\n",
    "    x_left = x_path[i-1]\n",
    "    x_right = x_path[i+1] if i < NTAU-1 else x_path[0] #PBC.\n",
    "    daction = action(x_left, x_prime) + action(x_prime, x_right) \n",
    "    daction -= action(x_left, x_path[i]) + action(x_path[i], x_right) #compute the resulting change from u in delta S.\n",
    "    return daction\n",
    "# @njit\n",
    "def MCMC(x_path, prob_histogram):\n",
    "    for i in range(NTAU):\n",
    "        x_prime = vary_path(x_path[i])\n",
    "        daction = delta_action(x_path, x_prime, i)\n",
    "        if daction <= 0:            \n",
    "            x_path[i] = x_prime\n",
    "        else:        \n",
    "            prob = np.exp(-daction)\n",
    "            if np.random.random() < prob:\n",
    "                x_path[i] = x_prime\n",
    "    hist, _ = np.histogram(x_path, bins=x_bins)\n",
    "    prob_histogram += hist"
   ]
  },
  {
   "cell_type": "code",
   "execution_count": null,
   "metadata": {},
   "outputs": [],
   "source": [
    "for k in range(SWEEPS):\n",
    "    MCMC(x_path,prob_histogram)\n",
    "# Should take 1.5 minutes to compute with 200_000 SWEEPS\n"
   ]
  },
  {
   "cell_type": "code",
   "execution_count": null,
   "metadata": {},
   "outputs": [
    {
     "data": {
      "image/png": "[encoded data removed]",
      "text/plain": [
       "<Figure size 640x480 with 1 Axes>"
      ]
     },
     "metadata": {},
     "output_type": "display_data"
    }
   ],
   "source": [
    "plt.figure()\n",
    "plt.stairs(prob_histogram/np.sum(prob_histogram*DELTAX), x_bins, label=f\"MCMC, $\\\\tau = {TAU}$, $\\\\delta\\\\tau={DELTATAU}$\")\n",
    "# plt.plot(x_bins, psi_analytical*psi_analytical.conjugate(), label=\"Analytical\")\n",
    "# plt.plot(x_bins,V(x_bins)/250)\n",
    "plt.legend()\n",
    "plt.show()"
   ]
  },
  {
   "cell_type": "markdown",
   "metadata": {},
   "source": [
    "Problem B: Plot the ground state probability distribution and compare it with the expected form."
   ]
  },
  {
   "cell_type": "code",
   "execution_count": null,
   "metadata": {},
   "outputs": [],
   "source": []
  },
  {
   "cell_type": "markdown",
   "metadata": {},
   "source": [
    "Problem C : Calculate the energy and probability distribution of the particle from the same simulation\n",
    "code for a smaller value of τb. What is the expected probability distribution in this case? What does this\n",
    "correspond to in terms of a statistical mechanics interpretation?"
   ]
  },
  {
   "cell_type": "code",
   "execution_count": null,
   "metadata": {},
   "outputs": [],
   "source": []
  }
 ],
 "metadata": {
  "kernelspec": {
   "display_name": "Python 3",
   "language": "python",
   "name": "python3"
  },
  "language_info": {
   "codemirror_mode": {
    "name": "ipython",
    "version": 3
   },
   "file_extension": ".py",
   "mimetype": "text/x-python",
   "name": "python",
   "nbconvert_exporter": "python",
   "pygments_lexer": "ipython3",
   "version": "3.11.9"
  }
 },
 "nbformat": 4,
 "nbformat_minor": 2
}
