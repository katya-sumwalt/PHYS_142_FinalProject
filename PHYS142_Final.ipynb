{
 "cells": [
  {
   "cell_type": "markdown",
   "metadata": {},
   "source": [
    "## Double Well Potential with MCMC"
   ]
  },
  {
   "cell_type": "markdown",
   "metadata": {},
   "source": [
    "Paul Cretegny, Ethan Newell, Katya Sumwalt"
   ]
  },
  {
   "cell_type": "code",
   "execution_count": null,
   "metadata": {},
   "outputs": [],
   "source": [
    "import numpy as np\n",
    "import matplotlib.pyplot as plt"
   ]
  },
  {
   "cell_type": "markdown",
   "metadata": {},
   "source": [
    "Consider the double well potential,\n",
    "$$ V(x) = αx^4 -2x^2 + \\frac{1}{α}$$\n",
    "where x is the position of the particle, and we set m = h_bar = 1 and α = 0.4. See Refs. [1, 2] for discussions of\n",
    "similar problems."
   ]
  },
  {
   "cell_type": "markdown",
   "metadata": {},
   "source": [
    "Use the path integral formulation with imaginary time τ:\n",
    "\n",
    "$$ Z = \\int\\ Dx(τ) exp [-\\frac{1}{h} \\oint_{0}^{\\tau_b} L_E(x(τ))dτ \\, dx] $$\n",
    "\n"
   ]
  },
  {
   "cell_type": "markdown",
   "metadata": {},
   "source": [
    "Problem A : Evaluate the ground state energy and probability distribution of the particle using Markov\n",
    "chain Monte Carlo with the Metropolis-Hastings algorithm in the large-τb (imaginary time) limit. Describe\n",
    "your strategy for determining τb, the initial configuration, burn-in steps, hit size, number of sweeps, and\n",
    "thinning (if any).\n"
   ]
  },
  {
   "cell_type": "code",
   "execution_count": null,
   "metadata": {},
   "outputs": [],
   "source": []
  },
  {
   "cell_type": "markdown",
   "metadata": {},
   "source": [
    "Problem B: Plot the ground state probability distribution and compare it with the expected form."
   ]
  },
  {
   "cell_type": "code",
   "execution_count": null,
   "metadata": {},
   "outputs": [],
   "source": []
  },
  {
   "cell_type": "markdown",
   "metadata": {},
   "source": [
    "Problem C : Calculate the energy and probability distribution of the particle from the same simulation\n",
    "code for a smaller value of τb. What is the expected probability distribution in this case? What does this\n",
    "correspond to in terms of a statistical mechanics interpretation?"
   ]
  },
  {
   "cell_type": "code",
   "execution_count": null,
   "metadata": {},
   "outputs": [],
   "source": []
  }
 ],
 "metadata": {
  "kernelspec": {
   "display_name": "Python 3",
   "language": "python",
   "name": "python3"
  },
  "language_info": {
   "codemirror_mode": {
    "name": "ipython",
    "version": 3
   },
   "file_extension": ".py",
   "mimetype": "text/x-python",
   "name": "python",
   "nbconvert_exporter": "python",
   "pygments_lexer": "ipython3",
   "version": "3.13.1"
  }
 },
 "nbformat": 4,
 "nbformat_minor": 2
}
